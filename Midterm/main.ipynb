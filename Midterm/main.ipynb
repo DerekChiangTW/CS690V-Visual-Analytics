{
 "cells": [
  {
   "cell_type": "markdown",
   "metadata": {},
   "source": [
    "# COMPSCI 690V - Group Midterm - Text analysis and visualization"
   ]
  },
  {
   "cell_type": "markdown",
   "metadata": {},
   "source": [
    "### Team members: \n",
    "1. Chao-Ching Chiang\n",
    "2. Bailin Wang\n",
    "3. Jin Zhang"
   ]
  },
  {
   "cell_type": "markdown",
   "metadata": {},
   "source": [
    "### Datasets\n",
    "1. USA Geolocated Twitter dataset: http://followthehashtag.com/datasets/free-twitter-dataset-usa-200000-free-usa-tweets/"
   ]
  },
  {
   "cell_type": "code",
   "execution_count": 3,
   "metadata": {},
   "outputs": [],
   "source": [
    "import pandas as pd\n",
    "\n",
    "#fpath = './data/USA-Geolocated-tweets/coverage_x_usa_x_filter_nativeretweets.xlsx'\n",
    "fpath = './data/USA-Geolocated-tweets/geolocation_x_usa_x_filter_nativeretweets.xlsx'\n",
    "df = pd.read_excel(fpath, sheetname='Country List')"
   ]
  },
  {
   "cell_type": "code",
   "execution_count": 4,
   "metadata": {},
   "outputs": [
    {
     "data": {
      "text/html": [
       "<div>\n",
       "<style>\n",
       "    .dataframe thead tr:only-child th {\n",
       "        text-align: right;\n",
       "    }\n",
       "\n",
       "    .dataframe thead th {\n",
       "        text-align: left;\n",
       "    }\n",
       "\n",
       "    .dataframe tbody tr th {\n",
       "        vertical-align: top;\n",
       "    }\n",
       "</style>\n",
       "<table border=\"1\" class=\"dataframe\">\n",
       "  <thead>\n",
       "    <tr style=\"text-align: right;\">\n",
       "      <th></th>\n",
       "      <th>Country</th>\n",
       "      <th>Keyword Repetitions</th>\n",
       "      <th>Latitude</th>\n",
       "      <th>Longitude</th>\n",
       "    </tr>\n",
       "  </thead>\n",
       "  <tbody>\n",
       "    <tr>\n",
       "      <th>0</th>\n",
       "      <td>United States</td>\n",
       "      <td>183900</td>\n",
       "      <td>32.866342</td>\n",
       "      <td>-96.809352</td>\n",
       "    </tr>\n",
       "    <tr>\n",
       "      <th>1</th>\n",
       "      <td>Mexico</td>\n",
       "      <td>20425</td>\n",
       "      <td>25.687315</td>\n",
       "      <td>-100.308416</td>\n",
       "    </tr>\n",
       "    <tr>\n",
       "      <th>2</th>\n",
       "      <td>Canada</td>\n",
       "      <td>5988</td>\n",
       "      <td>45.508889</td>\n",
       "      <td>-73.554167</td>\n",
       "    </tr>\n",
       "    <tr>\n",
       "      <th>3</th>\n",
       "      <td>Bahamas</td>\n",
       "      <td>112</td>\n",
       "      <td>25.078246</td>\n",
       "      <td>-77.358513</td>\n",
       "    </tr>\n",
       "    <tr>\n",
       "      <th>4</th>\n",
       "      <td>Cuba</td>\n",
       "      <td>111</td>\n",
       "      <td>23.131900</td>\n",
       "      <td>-82.364200</td>\n",
       "    </tr>\n",
       "  </tbody>\n",
       "</table>\n",
       "</div>"
      ],
      "text/plain": [
       "         Country  Keyword Repetitions   Latitude   Longitude\n",
       "0  United States               183900  32.866342  -96.809352\n",
       "1         Mexico                20425  25.687315 -100.308416\n",
       "2         Canada                 5988  45.508889  -73.554167\n",
       "3        Bahamas                  112  25.078246  -77.358513\n",
       "4           Cuba                  111  23.131900  -82.364200"
      ]
     },
     "execution_count": 4,
     "metadata": {},
     "output_type": "execute_result"
    }
   ],
   "source": [
    "df.head()"
   ]
  },
  {
   "cell_type": "code",
   "execution_count": null,
   "metadata": {},
   "outputs": [],
   "source": []
  }
 ],
 "metadata": {
  "kernelspec": {
   "display_name": "Python 3",
   "language": "python",
   "name": "python3"
  },
  "language_info": {
   "codemirror_mode": {
    "name": "ipython",
    "version": 3
   },
   "file_extension": ".py",
   "mimetype": "text/x-python",
   "name": "python",
   "nbconvert_exporter": "python",
   "pygments_lexer": "ipython3",
   "version": "3.6.2"
  }
 },
 "nbformat": 4,
 "nbformat_minor": 2
}
